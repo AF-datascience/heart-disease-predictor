{
 "cells": [
  {
   "cell_type": "markdown",
   "id": "30370d9a",
   "metadata": {},
   "source": [
    "# Heart Disease Classification\n",
    "\n",
    "This is another quick example of a classification project focusing on trying to build a predictor for heart disease given some readily available data. \n",
    "\n",
    "The data has been sourced from Kaggle and can be found here: \n",
    "\n",
    "More if"
   ]
  }
 ],
 "metadata": {
  "kernelspec": {
   "display_name": "Python 3 (ipykernel)",
   "language": "python",
   "name": "python3"
  },
  "language_info": {
   "codemirror_mode": {
    "name": "ipython",
    "version": 3
   },
   "file_extension": ".py",
   "mimetype": "text/x-python",
   "name": "python",
   "nbconvert_exporter": "python",
   "pygments_lexer": "ipython3",
   "version": "3.11.0"
  }
 },
 "nbformat": 4,
 "nbformat_minor": 5
}
